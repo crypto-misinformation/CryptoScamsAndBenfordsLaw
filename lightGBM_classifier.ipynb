{
 "cells": [
  {
   "cell_type": "code",
   "execution_count": null,
   "metadata": {},
   "outputs": [],
   "source": [
    "import numpy as np\n",
    "import pandas as pd\n",
    "\n",
    "import lightgbm as lgb\n",
    "\n",
    "from tools import split_data, feature_labels\n",
    "\n",
    "import matplotlib.pyplot as plt\n",
    "\n",
    "from sklearn.metrics import confusion_matrix, ConfusionMatrixDisplay, classification_report\n"
   ]
  },
  {
   "cell_type": "code",
   "execution_count": null,
   "metadata": {},
   "outputs": [],
   "source": [
    "data = pd.read_csv(\"all_data.csv\")\n",
    "\n",
    "X = data.iloc[:, 1:-1]\n",
    "y = data.iloc[:, -1:]\n",
    "\n",
    "X_train, X_val, X_test, y_train, y_val, y_test = split_data(X, y)\n"
   ]
  },
  {
   "cell_type": "code",
   "execution_count": null,
   "metadata": {},
   "outputs": [],
   "source": [
    "train_data = lgb.Dataset(X_train, label=y_train, free_raw_data=False)\n",
    "train_data.save_binary('lightgbm/train.bin')\n",
    "\n",
    "val_data = lgb.Dataset(X_val, label=y_val, free_raw_data=False)\n",
    "val_data.save_binary('lightgbm/val.bin')\n"
   ]
  },
  {
   "cell_type": "code",
   "execution_count": null,
   "metadata": {},
   "outputs": [],
   "source": [
    "param = {'num_leaves': 81, 'objective': 'cross_entropy', 'num_iterations': 750}\n",
    "param['metric'] = [\"accuracy\", 'mean_squared_error', 'auc']\n",
    "\n",
    "num_round = 150\n",
    "bst = lgb.train(param, train_data, num_round, valid_sets=[\n",
    "                val_data])\n",
    "bst.save_model('lightgbm/model.txt')\n"
   ]
  },
  {
   "cell_type": "code",
   "execution_count": null,
   "metadata": {},
   "outputs": [],
   "source": [
    "y_pred_val = bst.predict(X_val)\n",
    "y_pred_val[y_pred_val >= 0.5] = 1\n",
    "y_pred_val[y_pred_val < 0.5] = 0\n",
    "\n",
    "print(classification_report(y_val, y_pred_val,\n",
    "      target_names=[\"Non-Scam\", \"Ponzi\"], digits=4))\n",
    "\n",
    "disp_svm = ConfusionMatrixDisplay(confusion_matrix(\n",
    "    y_val, y_pred_val), display_labels=[\"Non-Scam\", \"Ponzi\"])\n",
    "disp_svm.plot()\n",
    "plt.title(\"LightGBM: Confusion Matrix\")\n",
    "plt.show()\n"
   ]
  },
  {
   "cell_type": "code",
   "execution_count": null,
   "metadata": {},
   "outputs": [],
   "source": [
    "ypred = bst.predict(X_test)\n",
    "ypred[ypred >= 0.5] = 1\n",
    "ypred[ypred < 0.5] = 0\n",
    "\n",
    "print(classification_report(y_test, ypred,\n",
    "      target_names=[\"Non-Scam\", \"Ponzi\"], digits=4))\n",
    "\n",
    "disp_svm = ConfusionMatrixDisplay(confusion_matrix(\n",
    "    y_test, ypred), display_labels=[\"Non-Scam\", \"Ponzi\"])\n",
    "disp_svm.plot()\n",
    "plt.title(\"LightGBM: Confusion Matrix\")\n",
    "plt.show()\n"
   ]
  },
  {
   "cell_type": "code",
   "execution_count": null,
   "metadata": {},
   "outputs": [],
   "source": [
    "lgb.plot_importance(bst, )\n"
   ]
  },
  {
   "cell_type": "code",
   "execution_count": null,
   "metadata": {},
   "outputs": [],
   "source": [
    "feature_labels[18]"
   ]
  }
 ],
 "metadata": {
  "kernelspec": {
   "display_name": "Python 3",
   "language": "python",
   "name": "python3"
  },
  "language_info": {
   "name": "python",
   "version": "3.10.1 (v3.10.1:2cd268a3a9, Dec  6 2021, 14:28:59) [Clang 13.0.0 (clang-1300.0.29.3)]"
  },
  "orig_nbformat": 4,
  "vscode": {
   "interpreter": {
    "hash": "98590ff4fe04c8543246b2a01debd3de3c5ca9b666f43f1fa87d5110c692004c"
   }
  }
 },
 "nbformat": 4,
 "nbformat_minor": 2
}
